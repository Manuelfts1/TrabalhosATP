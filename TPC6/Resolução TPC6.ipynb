{
 "cells": [
  {
   "cell_type": "markdown",
   "metadata": {},
   "source": [
    "Resolução do TPC6"
   ]
  },
  {
   "cell_type": "code",
   "execution_count": 4,
   "metadata": {},
   "outputs": [],
   "source": [
    "#Ler a informação:\n",
    "\n",
    "def ler_funcao():\n",
    "    abrir = open(\"diabetes_prediction_dataset.csv.zip\")\n",
    "    abrir.readline()\n",
    "    abrir.close()\n",
    "\n"
   ]
  },
  {
   "cell_type": "code",
   "execution_count": 3,
   "metadata": {},
   "outputs": [],
   "source": [
    "#Cálculo da distribuição por sexo:\n",
    "\n",
    "def distribuicao_doenca(doentes):\n",
    "    ler_funcao()\n",
    "    Male = 0\n",
    "    Female = 0\n",
    "    for paciente in doentes:\n",
    "        diabetes = []\n",
    "        if paciente[0] == \"Male\" and paciente[8] == 1:\n",
    "            Male = Male + 1\n",
    "            diabetes.append(paciente)\n",
    "        elif paciente[0] == \"Female\" and paciente[8] == 1:\n",
    "            Female = Female + 1 \n",
    "            diabetes.append(paciente)\n",
    "    male_diabeticos = 100 * Male/ (Male + Female)\n",
    "    female_diabeticos = 100 - male_diabeticos \n",
    "    return(male_diabeticos, female_diabeticos)\n",
    "\n",
    "        \n",
    "        "
   ]
  },
  {
   "cell_type": "code",
   "execution_count": 5,
   "metadata": {},
   "outputs": [],
   "source": [
    "#Idade dos pacientes:\n",
    "\n",
    "def faixa_etaria(doentes):\n",
    "    ler_funcao()\n",
    "    idades = ()\n",
    "    entre0e10 = []\n",
    "    entre11e24 = []\n",
    "    entre25e29 = []\n",
    "    entre30e34 = []\n",
    "    entre35e39 = []\n",
    "    entre40e44 = []\n",
    "    for paciente in doentes:\n",
    "        if paciente[1] <= 10: \n",
    "            entre0e10.append(paciente)\n",
    "            idades.append(entre0e10)\n",
    "        elif paciente[1] <= 24: \n",
    "            entre11e24.append(paciente)\n",
    "            idades.append(entre11e24)\n",
    "        elif paciente[1] <= 29: \n",
    "            entre25e29.append(paciente)\n",
    "            idades.append(entre25e29)\n",
    "        elif paciente[1] <= 34: \n",
    "            entre30e34.append(paciente)\n",
    "            idades.append(entre30e34)\n",
    "        elif paciente[1] <= 39: \n",
    "            entre35e39.append(paciente)\n",
    "            idades.append(entre35e39)\n",
    "        elif paciente[1] <= 44: \n",
    "            entre40e44.append(paciente)\n",
    "            idades.append(entre40e44)\n",
    "        return(100 * len(idades[int(input(\"Introduza uma faixa etária.\"))])/(len(entre0e10) + len(entre11e24) + len(entre25e29) + len(entre30e34 + len(entre35e39) + len(entre40e44))))"
   ]
  },
  {
   "cell_type": "code",
   "execution_count": 1,
   "metadata": {},
   "outputs": [],
   "source": [
    "#Níveis de Glucose:\n",
    "\n",
    "def niveis_glucose(doentes):\n",
    "    ler_funcao()\n",
    "    dif_niveis = ()\n",
    "    glu = 1\n",
    "    for paciente in doentes:\n",
    "        if paciente[7] == range(glu + 9):\n",
    "            dif_niveis.append(paciente)\n",
    "        else:\n",
    "            glu = glu + 10\n",
    "    return dif_niveis\n",
    "            \n",
    "     \n"
   ]
  }
 ],
 "metadata": {
  "kernelspec": {
   "display_name": "base",
   "language": "python",
   "name": "python3"
  },
  "language_info": {
   "codemirror_mode": {
    "name": "ipython",
    "version": 3
   },
   "file_extension": ".py",
   "mimetype": "text/x-python",
   "name": "python",
   "nbconvert_exporter": "python",
   "pygments_lexer": "ipython3",
   "version": "3.11.5"
  }
 },
 "nbformat": 4,
 "nbformat_minor": 2
}
