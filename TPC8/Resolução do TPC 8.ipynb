{
 "cells": [
  {
   "cell_type": "markdown",
   "metadata": {},
   "source": [
    "Resolução do TPC 8"
   ]
  },
  {
   "cell_type": "code",
   "execution_count": 6,
   "metadata": {},
   "outputs": [
    {
     "name": "stdout",
     "output_type": "stream",
     "text": [
      "[1, 2, 3, 6, 7, 8]\n"
     ]
    }
   ],
   "source": [
    "#Ex1.a\n",
    "\n",
    "lista1 = [1, 2, 3, 4, 5]\n",
    "lista2 = [4, 5, 6, 7, 8]  \n",
    "comuns = []\n",
    "i = 0\n",
    "for elemento in lista1:\n",
    "    if elemento not in lista2:\n",
    "        comuns.append(elemento)\n",
    "for elemento in lista2:\n",
    "    if elemento not in lista1:\n",
    "        comuns.append(elemento)\n",
    "\n",
    "print(comuns)"
   ]
  },
  {
   "cell_type": "code",
   "execution_count": 12,
   "metadata": {},
   "outputs": [
    {
     "name": "stdout",
     "output_type": "stream",
     "text": [
      "['Vivia', 'poucos', 'anos', 'algures', 'concelho', 'Ribatejo', 'pequeno', 'lavrador', 'negociante', 'gado', 'chamado', 'Manuel', 'Peres', 'Vigário']\n"
     ]
    }
   ],
   "source": [
    "#Ex1.b\n",
    "\n",
    "texto = \"\"\"Vivia há já não poucos anos algures num concelho do Ribatejo \n",
    "    um pequeno lavrador e negociante de gado chamado Manuel Peres Vigário\"\"\"\n",
    "lista = []\n",
    "palavras = texto.split(\" \")\n",
    "for palavra in palavras:\n",
    "    if len(list(palavra)) > 3: lista.append(palavra)\n",
    "print(lista)\n",
    "        "
   ]
  },
  {
   "cell_type": "code",
   "execution_count": 7,
   "metadata": {},
   "outputs": [
    {
     "name": "stdout",
     "output_type": "stream",
     "text": [
      "[(1, 'anaconda'), (2, 'burro'), (3, 'cavalo'), (4, 'macaco')]\n"
     ]
    }
   ],
   "source": [
    "#Ex1.c\n",
    "\n",
    "lista = ['anaconda', 'burro', 'cavalo', 'macaco']\n",
    "listaRes = []\n",
    "i = 0\n",
    "for animal in lista:\n",
    "    i = i + 1\n",
    "    listaRes.append((i, animal))\n",
    "print(listaRes)\n",
    "    "
   ]
  },
  {
   "cell_type": "code",
   "execution_count": 19,
   "metadata": {},
   "outputs": [
    {
     "name": "stdout",
     "output_type": "stream",
     "text": [
      "1 1 0\n"
     ]
    }
   ],
   "source": [
    "#Ex2.a\n",
    "\n",
    "def strCount(s, subs): \n",
    "    i = 0\n",
    "    if subs in s:\n",
    "        i = i + 1\n",
    "    return(i)\n",
    "    \n",
    "\n",
    "a = strCount(\"catcowcat\", \"cat\") # --> 2\n",
    "b = strCount(\"catcowcat\", \"cow\") # --> 1\n",
    "c = strCount(\"catcowcat\", \"dog\") # --> 0\n",
    "print(a, b, c)"
   ]
  },
  {
   "cell_type": "code",
   "execution_count": 22,
   "metadata": {},
   "outputs": [
    {
     "name": "stdout",
     "output_type": "stream",
     "text": [
      "63\n"
     ]
    }
   ],
   "source": [
    "#Ex2.b\n",
    "\n",
    "def produtoM3(lista):\n",
    "    menor = 100\n",
    "    menor2 = 100\n",
    "    menor3 = 100\n",
    "    for numero in lista:\n",
    "        if numero < menor: menor = numero\n",
    "    if menor is lista: lista.remove(menor)\n",
    "    for numero in lista:\n",
    "        if numero < menor2: menor2 = numero\n",
    "    if menor2 in lista: \n",
    "        lista.remove(menor2) \n",
    "    for numero in lista:\n",
    "        if numero < menor3: menor3 = numero    \n",
    "    return(menor * menor2 * menor3)\n",
    "\n",
    "print(produtoM3([12,3,7,10,12,8,9]))"
   ]
  },
  {
   "cell_type": "code",
   "execution_count": 33,
   "metadata": {},
   "outputs": [
    {
     "name": "stdout",
     "output_type": "stream",
     "text": [
      "4\n"
     ]
    }
   ],
   "source": [
    "#Ex2.c\n",
    "\n",
    "def reduxInt(n):\n",
    "    numero = str(n)\n",
    "    listaN = []\n",
    "    for digito in numero:\n",
    "        listaN.append(int(digito))\n",
    "    soma = 0\n",
    "    i = 0\n",
    "    while i < (len(listaN) - 1):\n",
    "        for digito in listaN:\n",
    "            soma = soma + digito\n",
    "            listaN.clear()\n",
    "            listaN.append(int(digito)) \n",
    "            i = i + 1\n",
    "    return soma\n",
    "\n",
    "inte = reduxInt(45)\n",
    "print(inte)\n",
    "\n"
   ]
  },
  {
   "cell_type": "code",
   "execution_count": 35,
   "metadata": {},
   "outputs": [
    {
     "name": "stdout",
     "output_type": "stream",
     "text": [
      "13 -1\n"
     ]
    }
   ],
   "source": [
    "#Ex2.d\n",
    "\n",
    "def myIndexOf(s1, s2):\n",
    "    if s2 in s1: \n",
    "        a = s1.index(s2)\n",
    "    else: a = -1\n",
    "    return a\n",
    "\n",
    "Invocação1 = myIndexOf(\"Hoje está um belo dia de sol!\", \"belo\")\n",
    "# Resultado: 13\n",
    "\n",
    "Invocação2 = myIndexOf(\"Hoje está um belo dia de sol!\", \"chuva\")\n",
    "# Resultado: -1\n",
    "print(Invocação1, Invocação2)"
   ]
  },
  {
   "cell_type": "code",
   "execution_count": 37,
   "metadata": {},
   "outputs": [],
   "source": [
    "#Ex3.a\n",
    "\n",
    "def quantosPost(redeSocial):\n",
    "    a = len(redeSocial)\n",
    "    return a"
   ]
  },
  {
   "cell_type": "code",
   "execution_count": 36,
   "metadata": {},
   "outputs": [],
   "source": [
    "#Ex3.b\n",
    "\n",
    "def postsAutor(redeSocial, autor):\n",
    "    numPosts = 0\n",
    "    for post in redeSocial:\n",
    "        if post[2] == autor:\n",
    "            i = i + 1\n",
    "        \n",
    "    return i"
   ]
  },
  {
   "cell_type": "code",
   "execution_count": 39,
   "metadata": {},
   "outputs": [],
   "source": [
    "#Ex3.c\n",
    "\n",
    "def autores(redeSocial):\n",
    "    autores = []\n",
    "    for post in redeSocial:\n",
    "        if post[2] not in autores: autores.append(post[2])   \n",
    "    autores.sort()\n",
    "    return autores\n"
   ]
  },
  {
   "cell_type": "code",
   "execution_count": 46,
   "metadata": {},
   "outputs": [],
   "source": [
    "#Ex3.d\n",
    "\n",
    "def insPost(redeSocial, conteudo, autor, dataCriacao, comentarios):\n",
    "    for post in redeSocial:\n",
    "        for id, conteudo, autor, dataCriacao, comentarios in post:\n",
    "            if id not in redeSocial: id.append(redeSocial)\n",
    "            novoPost = ((id, \"p4\"), (conteudo, input), (autor, input), (dataCriacao, input), (comentarios,input))\n",
    "            novoPost.append(redeSocial)\n",
    "    return redeSocial"
   ]
  },
  {
   "cell_type": "code",
   "execution_count": 41,
   "metadata": {},
   "outputs": [],
   "source": [
    "#Ex3.e\n",
    "\n",
    "def remPost(redeSocial, id):\n",
    "    for post in redeSocial:\n",
    "        if id in post: redeSocial.delete(post)\n",
    "    return redeSocial"
   ]
  },
  {
   "cell_type": "code",
   "execution_count": 45,
   "metadata": {},
   "outputs": [],
   "source": [
    "#Ex3.f\n",
    "\n",
    "def postsPorAutor(redeSocial):\n",
    "    postsAutor = []\n",
    "    listaAutores = autores(redeSocial)\n",
    "    for post in redeSocial:\n",
    "            if post[2] in listaAutores:\n",
    "                 postsAutor.append(post[2], post)  \n",
    "    postsAutor.sort()\n",
    "    return postsAutor"
   ]
  },
  {
   "cell_type": "code",
   "execution_count": 43,
   "metadata": {},
   "outputs": [],
   "source": [
    "#Ex3.g\n",
    "\n",
    "def comentadoPor(redeSocial, autor):\n",
    "    listaComentarios = []\n",
    "    for post in redeSocial:\n",
    "        autor = post[2]\n",
    "        comentarios = post[4]\n",
    "        i = 0\n",
    "        while i < len(comentarios):\n",
    "            if autor == comentarios[i]:\n",
    "                for comentario in comentarios:\n",
    "                    listaComentarios.append(comentario)\n",
    "                i = i + 1\n",
    "        \n",
    "    return listaComentarios"
   ]
  }
 ],
 "metadata": {
  "kernelspec": {
   "display_name": "base",
   "language": "python",
   "name": "python3"
  },
  "language_info": {
   "codemirror_mode": {
    "name": "ipython",
    "version": 3
   },
   "file_extension": ".py",
   "mimetype": "text/x-python",
   "name": "python",
   "nbconvert_exporter": "python",
   "pygments_lexer": "ipython3",
   "version": "3.11.5"
  }
 },
 "nbformat": 4,
 "nbformat_minor": 2
}
