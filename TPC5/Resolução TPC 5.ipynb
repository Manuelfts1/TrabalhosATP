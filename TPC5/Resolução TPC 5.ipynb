{
 "cells": [
  {
   "cell_type": "markdown",
   "metadata": {},
   "source": [
    "Resolução do TPC5"
   ]
  },
  {
   "cell_type": "code",
   "execution_count": 3,
   "metadata": {},
   "outputs": [
    {
     "data": {
      "text/plain": [
       "[[100, [], 'FNAF Movie'], [120, [], 'Barbie Movie']]"
      ]
     },
     "execution_count": 3,
     "metadata": {},
     "output_type": "execute_result"
    }
   ],
   "source": [
    "#Inserir Sala\n",
    "\n",
    "sala1 = [100, [], \"FNAF Movie\"]\n",
    "sala2 = [120, [], \"Barbie Movie\"]\n",
    "\n",
    "cinema1 = []\n",
    "\n",
    "def inserir_sala(cinema, sala):\n",
    "    if sala not in cinema:\n",
    "        cinema.append(sala)\n",
    "    return cinema\n",
    "\n",
    "inserir_sala(cinema1, sala1)\n",
    "inserir_sala(cinema1, sala2)        \n",
    "    "
   ]
  },
  {
   "cell_type": "code",
   "execution_count": 36,
   "metadata": {},
   "outputs": [
    {
     "data": {
      "text/plain": [
       "['FNAF Movie', 'Barbie Movie']"
      ]
     },
     "execution_count": 36,
     "metadata": {},
     "output_type": "execute_result"
    }
   ],
   "source": [
    "#Listar\n",
    "\n",
    "def listar(cinema):\n",
    "    filmes = [sala[2] for sala in cinema]\n",
    "    return filmes\n",
    "\n",
    "listar(cinema1)\n"
   ]
  },
  {
   "cell_type": "code",
   "execution_count": 24,
   "metadata": {},
   "outputs": [
    {
     "data": {
      "text/plain": [
       "True"
      ]
     },
     "execution_count": 24,
     "metadata": {},
     "output_type": "execute_result"
    }
   ],
   "source": [
    "#Disponível\n",
    "\n",
    "def disponível(cinema, filme, lugar):\n",
    "    livre = True\n",
    "    for sala in cinema:\n",
    "        if sala[2] == filme:\n",
    "            if lugar in sala[1]:\n",
    "                    livre = False\n",
    "    return livre\n",
    "disponível(cinema1, \"Barbie Movie\", 1)\n",
    "    "
   ]
  },
  {
   "cell_type": "code",
   "execution_count": 7,
   "metadata": {},
   "outputs": [
    {
     "name": "stdout",
     "output_type": "stream",
     "text": [
      "[100, [3, 3, 3, 3], 'FNAF Movie']\n"
     ]
    }
   ],
   "source": [
    "#Vender Bilhetes\n",
    "\n",
    "def vender_bilhetes(cinema, filme, lugar):\n",
    "    for sala in cinema:\n",
    "        if sala[2] == filme:\n",
    "            sala[1].append(lugar)\n",
    "    return sala[1]\n",
    "\n",
    "vender_bilhetes(cinema1, \"FNAF Movie\", 3)\n",
    "print(sala1)"
   ]
  },
  {
   "cell_type": "code",
   "execution_count": 26,
   "metadata": {},
   "outputs": [
    {
     "name": "stdout",
     "output_type": "stream",
     "text": [
      "FNAF Movie com 100 lugares livres.\n",
      "Barbie Movie com 120 lugares livres.\n"
     ]
    }
   ],
   "source": [
    "#Listar Disponibilidade\n",
    "\n",
    "def listar_disponibilidade(cinema):\n",
    "    for sala in cinema:\n",
    "        print(str(sala[2]) + \" com \" + str(sala[0]-len(sala[1])) + \" lugares livres.\")\n",
    "\n",
    "listar_disponibilidade(cinema1)        \n",
    "        "
   ]
  },
  {
   "cell_type": "code",
   "execution_count": 22,
   "metadata": {},
   "outputs": [
    {
     "name": "stdout",
     "output_type": "stream",
     "text": [
      "Vamos comprar bilhetes?\n",
      "          1. Inserir sala.\n",
      "          2.Listar\n",
      "          3.Verificar disponibilidade\n",
      "          4.Comprar bilhetes\n",
      "          5.Listar disponibilidade\n",
      "          \n",
      "1\n"
     ]
    }
   ],
   "source": [
    "#Menu\n",
    "\n",
    "print(\"Vamos comprar bilhetes?\")\n",
    "def menu():\n",
    "    print(\"\"\"          1. Inserir sala.\n",
    "          2.Listar\n",
    "          3.Verificar disponibilidade\n",
    "          4.Comprar bilhetes\n",
    "          5.Listar disponibilidade\n",
    "          \"\"\")\n",
    "menu()\n",
    "escolha_menu = print(input(\"Escolha uma opção:\"))\n",
    "\n",
    "if escolha_menu == 1: \n",
    "    inserir_sala(input(\"Introduza um cinema.\"), input(\"introduza uma sala.\"))\n",
    "    escolha_menu == 0\n",
    "    \n",
    "elif escolha_menu == 2: \n",
    "    listar(input(\"Escolha um cinema.\"))\n",
    "    escolha_menu == 0\n",
    "\n",
    "elif escolha_menu == 3: \n",
    "    disponível(input(\"Escolha um cinema.\"), input(\"Escolha um filme.\"), input(\"Escolha um lugar.\"))\n",
    "    escolha_menu == 0\n",
    "    \n",
    "elif escolha_menu == 4: \n",
    "    vender_bilhetes(input(\"Escolha um cinema.\"), input(\"Escolha um filme.\"), input(\"Escolha um lugar.\"))\n",
    "    escolha_menu == 0\n",
    "    \n",
    "elif escolha_menu == 5: \n",
    "    listar_disponibilidade(input(\"Escolha um cinema.\"))\n",
    "    escolha_menu == 0\n",
    "    \n",
    "elif escolha_menu == 0: print(menu())\n"
   ]
  }
 ],
 "metadata": {
  "kernelspec": {
   "display_name": "base",
   "language": "python",
   "name": "python3"
  },
  "language_info": {
   "codemirror_mode": {
    "name": "ipython",
    "version": 3
   },
   "file_extension": ".py",
   "mimetype": "text/x-python",
   "name": "python",
   "nbconvert_exporter": "python",
   "pygments_lexer": "ipython3",
   "version": "3.11.5"
  }
 },
 "nbformat": 4,
 "nbformat_minor": 2
}
